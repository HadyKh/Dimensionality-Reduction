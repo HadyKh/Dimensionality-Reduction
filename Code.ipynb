{
 "cells": [
  {
   "cell_type": "code",
   "execution_count": 2,
   "id": "18c85f70",
   "metadata": {},
   "outputs": [],
   "source": [
    "import pandas as pd\n",
    "import numpy as np\n",
    "from sklearn.model_selection import train_test_split\n",
    "from sklearn.svm import SVC\n",
    "from sklearn.preprocessing import StandardScaler\n",
    "from sklearn.metrics import confusion_matrix, accuracy_score, classification_report, plot_confusion_matrix\n",
    "from matplotlib.colors import ListedColormap\n",
    "import matplotlib.pyplot as plt"
   ]
  },
  {
   "cell_type": "code",
   "execution_count": 3,
   "id": "95a8777b",
   "metadata": {},
   "outputs": [],
   "source": [
    "def model_svm(x_train, y_train, x_test):\n",
    "    cs = SVC(kernel = 'linear', random_state = 0)\n",
    "    cs.fit(x_train, y_train)\n",
    "    y_pred = cs.predict(x_test)\n",
    "    return y_pred, cs"
   ]
  },
  {
   "cell_type": "code",
   "execution_count": 4,
   "id": "c94e5937",
   "metadata": {},
   "outputs": [],
   "source": [
    "#plotting only two classes\n",
    "def plotting(x_test, y_test, model):\n",
    "    X, Y = np.array(x_test), np.array(y_test) #convert to numpy\n",
    "    #getting the meshgrid\n",
    "    XX, YY = np.meshgrid(np.arange(start = X[:, 0].min() - 1, stop = X[:, 0].max() + 1, step = 0.01),\n",
    "                     np.arange(start = X[:, 1].min() - 1, stop = X[:, 1].max() + 1, step = 0.01))\n",
    "    z = model.predict(np.array([XX.ravel(), YY.ravel()]).T) #prediction for the foreground\n",
    "    ZZ = z.reshape(XX.shape)\n",
    "    plt.contourf(XX, YY, ZZ, alpha = 0.2, cmap = ListedColormap(('red', 'green'))) #draw the lines\n",
    "    plt.xlim(XX.min(), XX.max())\n",
    "    plt.ylim(YY.min(), YY.max())\n",
    "    colors = ['r', 'g']\n",
    "    markers = ['o', '+']\n",
    "    #plotting\n",
    "    for class_index in range(len(cls)):\n",
    "        plt.scatter(X[Y == cls[class_index],0],\n",
    "                    X[Y == cls[class_index],1],\n",
    "                    c=colors[class_index], marker=markers[class_index], label=cls_names[cls[class_index]])\n",
    "    plt.title('SVM')\n",
    "    plt.legend()\n",
    "    plt.show()"
   ]
  },
  {
   "cell_type": "code",
   "execution_count": 5,
   "id": "61940f7f",
   "metadata": {},
   "outputs": [],
   "source": [
    "dataset_train = pd.read_csv(\"Pokemon_train.csv\")\n",
    "dataset_test = pd.read_csv(\"Pokemon_test.csv\")"
   ]
  },
  {
   "cell_type": "code",
   "execution_count": 6,
   "id": "72de64dd",
   "metadata": {},
   "outputs": [],
   "source": [
    "#split data to be fitted and tested after that\n",
    "x_dataset_train = dataset_train.iloc[:, 0:32]\n",
    "y_dataset_train = dataset_train.iloc[:, 32]\n",
    "x_dataset_test = dataset_test.iloc[:, 0:32]\n",
    "y_dataset_test = dataset_test.iloc[:, 32]"
   ]
  },
  {
   "cell_type": "code",
   "execution_count": null,
   "id": "57529ecd",
   "metadata": {},
   "outputs": [],
   "source": []
  }
 ],
 "metadata": {
  "kernelspec": {
   "display_name": "Python 3 (ipykernel)",
   "language": "python",
   "name": "python3"
  },
  "language_info": {
   "codemirror_mode": {
    "name": "ipython",
    "version": 3
   },
   "file_extension": ".py",
   "mimetype": "text/x-python",
   "name": "python",
   "nbconvert_exporter": "python",
   "pygments_lexer": "ipython3",
   "version": "3.9.7"
  }
 },
 "nbformat": 4,
 "nbformat_minor": 5
}
